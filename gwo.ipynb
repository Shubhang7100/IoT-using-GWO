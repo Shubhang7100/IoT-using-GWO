{
 "cells": [
  {
   "cell_type": "markdown",
   "metadata": {},
   "source": [
    "# Feature Selection Method Based on Grey Wolf Optimization for IOT Home Sensors Classification"
   ]
  },
  {
   "cell_type": "code",
   "execution_count": 1,
   "metadata": {
    "scrolled": false
   },
   "outputs": [
    {
     "data": {
      "text/html": [
       "<div>\n",
       "<style scoped>\n",
       "    .dataframe tbody tr th:only-of-type {\n",
       "        vertical-align: middle;\n",
       "    }\n",
       "\n",
       "    .dataframe tbody tr th {\n",
       "        vertical-align: top;\n",
       "    }\n",
       "\n",
       "    .dataframe thead th {\n",
       "        text-align: right;\n",
       "    }\n",
       "</style>\n",
       "<table border=\"1\" class=\"dataframe\">\n",
       "  <thead>\n",
       "    <tr style=\"text-align: right;\">\n",
       "      <th></th>\n",
       "      <th>date</th>\n",
       "      <th>Temperature</th>\n",
       "      <th>Humidity</th>\n",
       "      <th>Light</th>\n",
       "      <th>CO2</th>\n",
       "      <th>HumidityRatio</th>\n",
       "      <th>Occupancy</th>\n",
       "    </tr>\n",
       "  </thead>\n",
       "  <tbody>\n",
       "    <tr>\n",
       "      <th>0</th>\n",
       "      <td>2015-02-02 14:19:00</td>\n",
       "      <td>23.7000</td>\n",
       "      <td>26.272</td>\n",
       "      <td>585.200000</td>\n",
       "      <td>749.200000</td>\n",
       "      <td>0.004764</td>\n",
       "      <td>1</td>\n",
       "    </tr>\n",
       "    <tr>\n",
       "      <th>1</th>\n",
       "      <td>2015-02-02 14:19:59</td>\n",
       "      <td>23.7180</td>\n",
       "      <td>26.290</td>\n",
       "      <td>578.400000</td>\n",
       "      <td>760.400000</td>\n",
       "      <td>0.004773</td>\n",
       "      <td>1</td>\n",
       "    </tr>\n",
       "    <tr>\n",
       "      <th>2</th>\n",
       "      <td>2015-02-02 14:21:00</td>\n",
       "      <td>23.7300</td>\n",
       "      <td>26.230</td>\n",
       "      <td>572.666667</td>\n",
       "      <td>769.666667</td>\n",
       "      <td>0.004765</td>\n",
       "      <td>1</td>\n",
       "    </tr>\n",
       "    <tr>\n",
       "      <th>3</th>\n",
       "      <td>2015-02-02 14:22:00</td>\n",
       "      <td>23.7225</td>\n",
       "      <td>26.125</td>\n",
       "      <td>493.750000</td>\n",
       "      <td>774.750000</td>\n",
       "      <td>0.004744</td>\n",
       "      <td>1</td>\n",
       "    </tr>\n",
       "    <tr>\n",
       "      <th>4</th>\n",
       "      <td>2015-02-02 14:23:00</td>\n",
       "      <td>23.7540</td>\n",
       "      <td>26.200</td>\n",
       "      <td>488.600000</td>\n",
       "      <td>779.000000</td>\n",
       "      <td>0.004767</td>\n",
       "      <td>1</td>\n",
       "    </tr>\n",
       "  </tbody>\n",
       "</table>\n",
       "</div>"
      ],
      "text/plain": [
       "                  date  Temperature  Humidity       Light         CO2  \\\n",
       "0  2015-02-02 14:19:00      23.7000    26.272  585.200000  749.200000   \n",
       "1  2015-02-02 14:19:59      23.7180    26.290  578.400000  760.400000   \n",
       "2  2015-02-02 14:21:00      23.7300    26.230  572.666667  769.666667   \n",
       "3  2015-02-02 14:22:00      23.7225    26.125  493.750000  774.750000   \n",
       "4  2015-02-02 14:23:00      23.7540    26.200  488.600000  779.000000   \n",
       "\n",
       "   HumidityRatio  Occupancy  \n",
       "0       0.004764          1  \n",
       "1       0.004773          1  \n",
       "2       0.004765          1  \n",
       "3       0.004744          1  \n",
       "4       0.004767          1  "
      ]
     },
     "execution_count": 1,
     "metadata": {},
     "output_type": "execute_result"
    }
   ],
   "source": [
    "import random\n",
    "import time\n",
    "import math\n",
    "import numpy as np\n",
    "import pandas as pd\n",
    "from sklearn.model_selection import train_test_split\n",
    "from sklearn.metrics import accuracy_score\n",
    "from sklearn.preprocessing import StandardScaler\n",
    "from sklearn.svm import SVC\n",
    "from sklearn.naive_bayes import GaussianNB\n",
    "from sklearn.tree import DecisionTreeClassifier\n",
    "from sklearn.ensemble import RandomForestClassifier\n",
    "from sklearn.metrics import confusion_matrix, accuracy_score\n",
    "import seaborn as sns\n",
    "import matplotlib.pyplot as plt\n",
    "import benchmarks\n",
    "\n",
    "data = pd.read_csv(\"iot_dataset.csv\")\n",
    "data.head()"
   ]
  },
  {
   "cell_type": "code",
   "execution_count": 2,
   "metadata": {},
   "outputs": [
    {
     "name": "stdout",
     "output_type": "stream",
     "text": [
      "<class 'pandas.core.frame.DataFrame'>\n",
      "RangeIndex: 20560 entries, 0 to 20559\n",
      "Data columns (total 7 columns):\n",
      " #   Column         Non-Null Count  Dtype  \n",
      "---  ------         --------------  -----  \n",
      " 0   date           20560 non-null  object \n",
      " 1   Temperature    20560 non-null  float64\n",
      " 2   Humidity       20560 non-null  float64\n",
      " 3   Light          20560 non-null  float64\n",
      " 4   CO2            20560 non-null  float64\n",
      " 5   HumidityRatio  20560 non-null  float64\n",
      " 6   Occupancy      20560 non-null  int64  \n",
      "dtypes: float64(5), int64(1), object(1)\n",
      "memory usage: 1.1+ MB\n"
     ]
    }
   ],
   "source": [
    "data.info()"
   ]
  },
  {
   "cell_type": "code",
   "execution_count": 3,
   "metadata": {
    "scrolled": false
   },
   "outputs": [
    {
     "name": "stdout",
     "output_type": "stream",
     "text": [
      "<class 'pandas.core.frame.DataFrame'>\n",
      "RangeIndex: 20560 entries, 0 to 20559\n",
      "Data columns (total 9 columns):\n",
      " #   Column         Non-Null Count  Dtype  \n",
      "---  ------         --------------  -----  \n",
      " 0   date           20560 non-null  object \n",
      " 1   Temperature    20560 non-null  float64\n",
      " 2   Humidity       20560 non-null  float64\n",
      " 3   Light          20560 non-null  float64\n",
      " 4   CO2            20560 non-null  float64\n",
      " 5   HumidityRatio  20560 non-null  float64\n",
      " 6   Occupancy      20560 non-null  int64  \n",
      " 7   Hours          20560 non-null  object \n",
      " 8   Minutes        20560 non-null  object \n",
      "dtypes: float64(5), int64(1), object(3)\n",
      "memory usage: 1.4+ MB\n"
     ]
    },
    {
     "data": {
      "text/html": [
       "<div>\n",
       "<style scoped>\n",
       "    .dataframe tbody tr th:only-of-type {\n",
       "        vertical-align: middle;\n",
       "    }\n",
       "\n",
       "    .dataframe tbody tr th {\n",
       "        vertical-align: top;\n",
       "    }\n",
       "\n",
       "    .dataframe thead th {\n",
       "        text-align: right;\n",
       "    }\n",
       "</style>\n",
       "<table border=\"1\" class=\"dataframe\">\n",
       "  <thead>\n",
       "    <tr style=\"text-align: right;\">\n",
       "      <th></th>\n",
       "      <th>date</th>\n",
       "      <th>Temperature</th>\n",
       "      <th>Humidity</th>\n",
       "      <th>Light</th>\n",
       "      <th>CO2</th>\n",
       "      <th>HumidityRatio</th>\n",
       "      <th>Occupancy</th>\n",
       "      <th>Hours</th>\n",
       "      <th>Minutes</th>\n",
       "    </tr>\n",
       "  </thead>\n",
       "  <tbody>\n",
       "    <tr>\n",
       "      <th>0</th>\n",
       "      <td>2015-02-02 14:19:00</td>\n",
       "      <td>23.7000</td>\n",
       "      <td>26.272</td>\n",
       "      <td>585.200000</td>\n",
       "      <td>749.200000</td>\n",
       "      <td>0.004764</td>\n",
       "      <td>1</td>\n",
       "      <td>14</td>\n",
       "      <td>19</td>\n",
       "    </tr>\n",
       "    <tr>\n",
       "      <th>1</th>\n",
       "      <td>2015-02-02 14:19:59</td>\n",
       "      <td>23.7180</td>\n",
       "      <td>26.290</td>\n",
       "      <td>578.400000</td>\n",
       "      <td>760.400000</td>\n",
       "      <td>0.004773</td>\n",
       "      <td>1</td>\n",
       "      <td>14</td>\n",
       "      <td>19</td>\n",
       "    </tr>\n",
       "    <tr>\n",
       "      <th>2</th>\n",
       "      <td>2015-02-02 14:21:00</td>\n",
       "      <td>23.7300</td>\n",
       "      <td>26.230</td>\n",
       "      <td>572.666667</td>\n",
       "      <td>769.666667</td>\n",
       "      <td>0.004765</td>\n",
       "      <td>1</td>\n",
       "      <td>14</td>\n",
       "      <td>21</td>\n",
       "    </tr>\n",
       "    <tr>\n",
       "      <th>3</th>\n",
       "      <td>2015-02-02 14:22:00</td>\n",
       "      <td>23.7225</td>\n",
       "      <td>26.125</td>\n",
       "      <td>493.750000</td>\n",
       "      <td>774.750000</td>\n",
       "      <td>0.004744</td>\n",
       "      <td>1</td>\n",
       "      <td>14</td>\n",
       "      <td>22</td>\n",
       "    </tr>\n",
       "    <tr>\n",
       "      <th>4</th>\n",
       "      <td>2015-02-02 14:23:00</td>\n",
       "      <td>23.7540</td>\n",
       "      <td>26.200</td>\n",
       "      <td>488.600000</td>\n",
       "      <td>779.000000</td>\n",
       "      <td>0.004767</td>\n",
       "      <td>1</td>\n",
       "      <td>14</td>\n",
       "      <td>23</td>\n",
       "    </tr>\n",
       "  </tbody>\n",
       "</table>\n",
       "</div>"
      ],
      "text/plain": [
       "                  date  Temperature  Humidity       Light         CO2  \\\n",
       "0  2015-02-02 14:19:00      23.7000    26.272  585.200000  749.200000   \n",
       "1  2015-02-02 14:19:59      23.7180    26.290  578.400000  760.400000   \n",
       "2  2015-02-02 14:21:00      23.7300    26.230  572.666667  769.666667   \n",
       "3  2015-02-02 14:22:00      23.7225    26.125  493.750000  774.750000   \n",
       "4  2015-02-02 14:23:00      23.7540    26.200  488.600000  779.000000   \n",
       "\n",
       "   HumidityRatio  Occupancy Hours Minutes  \n",
       "0       0.004764          1    14      19  \n",
       "1       0.004773          1    14      19  \n",
       "2       0.004765          1    14      21  \n",
       "3       0.004744          1    14      22  \n",
       "4       0.004767          1    14      23  "
      ]
     },
     "execution_count": 3,
     "metadata": {},
     "output_type": "execute_result"
    }
   ],
   "source": [
    "data[\"Hours\"]= data['date'].apply(lambda x : x.split()[1][:2])\n",
    "data[\"Minutes\"]= data['date'].apply(lambda x : x.split()[1][3:5])\n",
    "data.info()\n",
    "data.head()"
   ]
  },
  {
   "cell_type": "code",
   "execution_count": 4,
   "metadata": {
    "scrolled": true
   },
   "outputs": [
    {
     "data": {
      "text/html": [
       "<div>\n",
       "<style scoped>\n",
       "    .dataframe tbody tr th:only-of-type {\n",
       "        vertical-align: middle;\n",
       "    }\n",
       "\n",
       "    .dataframe tbody tr th {\n",
       "        vertical-align: top;\n",
       "    }\n",
       "\n",
       "    .dataframe thead th {\n",
       "        text-align: right;\n",
       "    }\n",
       "</style>\n",
       "<table border=\"1\" class=\"dataframe\">\n",
       "  <thead>\n",
       "    <tr style=\"text-align: right;\">\n",
       "      <th></th>\n",
       "      <th>Temperature</th>\n",
       "      <th>Humidity</th>\n",
       "      <th>Light</th>\n",
       "      <th>CO2</th>\n",
       "      <th>HumidityRatio</th>\n",
       "      <th>Occupancy</th>\n",
       "      <th>Time</th>\n",
       "    </tr>\n",
       "  </thead>\n",
       "  <tbody>\n",
       "    <tr>\n",
       "      <th>0</th>\n",
       "      <td>23.7000</td>\n",
       "      <td>26.272</td>\n",
       "      <td>585.200000</td>\n",
       "      <td>749.200000</td>\n",
       "      <td>0.004764</td>\n",
       "      <td>1</td>\n",
       "      <td>14.19</td>\n",
       "    </tr>\n",
       "    <tr>\n",
       "      <th>1</th>\n",
       "      <td>23.7180</td>\n",
       "      <td>26.290</td>\n",
       "      <td>578.400000</td>\n",
       "      <td>760.400000</td>\n",
       "      <td>0.004773</td>\n",
       "      <td>1</td>\n",
       "      <td>14.19</td>\n",
       "    </tr>\n",
       "    <tr>\n",
       "      <th>2</th>\n",
       "      <td>23.7300</td>\n",
       "      <td>26.230</td>\n",
       "      <td>572.666667</td>\n",
       "      <td>769.666667</td>\n",
       "      <td>0.004765</td>\n",
       "      <td>1</td>\n",
       "      <td>14.21</td>\n",
       "    </tr>\n",
       "    <tr>\n",
       "      <th>3</th>\n",
       "      <td>23.7225</td>\n",
       "      <td>26.125</td>\n",
       "      <td>493.750000</td>\n",
       "      <td>774.750000</td>\n",
       "      <td>0.004744</td>\n",
       "      <td>1</td>\n",
       "      <td>14.22</td>\n",
       "    </tr>\n",
       "    <tr>\n",
       "      <th>4</th>\n",
       "      <td>23.7540</td>\n",
       "      <td>26.200</td>\n",
       "      <td>488.600000</td>\n",
       "      <td>779.000000</td>\n",
       "      <td>0.004767</td>\n",
       "      <td>1</td>\n",
       "      <td>14.23</td>\n",
       "    </tr>\n",
       "  </tbody>\n",
       "</table>\n",
       "</div>"
      ],
      "text/plain": [
       "   Temperature  Humidity       Light         CO2  HumidityRatio  Occupancy  \\\n",
       "0      23.7000    26.272  585.200000  749.200000       0.004764          1   \n",
       "1      23.7180    26.290  578.400000  760.400000       0.004773          1   \n",
       "2      23.7300    26.230  572.666667  769.666667       0.004765          1   \n",
       "3      23.7225    26.125  493.750000  774.750000       0.004744          1   \n",
       "4      23.7540    26.200  488.600000  779.000000       0.004767          1   \n",
       "\n",
       "    Time  \n",
       "0  14.19  \n",
       "1  14.19  \n",
       "2  14.21  \n",
       "3  14.22  \n",
       "4  14.23  "
      ]
     },
     "execution_count": 4,
     "metadata": {},
     "output_type": "execute_result"
    }
   ],
   "source": [
    "data['Time'] = data['Hours'] + '.' + data['Minutes']\n",
    "data['Time'] = data['Time'].astype('float64')\n",
    "data.drop(['date', 'Hours', 'Minutes'], axis = 1, inplace = True)\n",
    "data.head()"
   ]
  },
  {
   "cell_type": "code",
   "execution_count": 5,
   "metadata": {},
   "outputs": [
    {
     "data": {
      "text/html": [
       "<div>\n",
       "<style scoped>\n",
       "    .dataframe tbody tr th:only-of-type {\n",
       "        vertical-align: middle;\n",
       "    }\n",
       "\n",
       "    .dataframe tbody tr th {\n",
       "        vertical-align: top;\n",
       "    }\n",
       "\n",
       "    .dataframe thead th {\n",
       "        text-align: right;\n",
       "    }\n",
       "</style>\n",
       "<table border=\"1\" class=\"dataframe\">\n",
       "  <thead>\n",
       "    <tr style=\"text-align: right;\">\n",
       "      <th></th>\n",
       "      <th>Temperature</th>\n",
       "      <th>Humidity</th>\n",
       "      <th>Light</th>\n",
       "      <th>CO2</th>\n",
       "      <th>HumidityRatio</th>\n",
       "      <th>Time</th>\n",
       "      <th>Occupancy</th>\n",
       "    </tr>\n",
       "  </thead>\n",
       "  <tbody>\n",
       "    <tr>\n",
       "      <th>0</th>\n",
       "      <td>23.7000</td>\n",
       "      <td>26.272</td>\n",
       "      <td>585.200000</td>\n",
       "      <td>749.200000</td>\n",
       "      <td>0.004764</td>\n",
       "      <td>14.19</td>\n",
       "      <td>1</td>\n",
       "    </tr>\n",
       "    <tr>\n",
       "      <th>1</th>\n",
       "      <td>23.7180</td>\n",
       "      <td>26.290</td>\n",
       "      <td>578.400000</td>\n",
       "      <td>760.400000</td>\n",
       "      <td>0.004773</td>\n",
       "      <td>14.19</td>\n",
       "      <td>1</td>\n",
       "    </tr>\n",
       "    <tr>\n",
       "      <th>2</th>\n",
       "      <td>23.7300</td>\n",
       "      <td>26.230</td>\n",
       "      <td>572.666667</td>\n",
       "      <td>769.666667</td>\n",
       "      <td>0.004765</td>\n",
       "      <td>14.21</td>\n",
       "      <td>1</td>\n",
       "    </tr>\n",
       "    <tr>\n",
       "      <th>3</th>\n",
       "      <td>23.7225</td>\n",
       "      <td>26.125</td>\n",
       "      <td>493.750000</td>\n",
       "      <td>774.750000</td>\n",
       "      <td>0.004744</td>\n",
       "      <td>14.22</td>\n",
       "      <td>1</td>\n",
       "    </tr>\n",
       "    <tr>\n",
       "      <th>4</th>\n",
       "      <td>23.7540</td>\n",
       "      <td>26.200</td>\n",
       "      <td>488.600000</td>\n",
       "      <td>779.000000</td>\n",
       "      <td>0.004767</td>\n",
       "      <td>14.23</td>\n",
       "      <td>1</td>\n",
       "    </tr>\n",
       "  </tbody>\n",
       "</table>\n",
       "</div>"
      ],
      "text/plain": [
       "   Temperature  Humidity       Light         CO2  HumidityRatio   Time  \\\n",
       "0      23.7000    26.272  585.200000  749.200000       0.004764  14.19   \n",
       "1      23.7180    26.290  578.400000  760.400000       0.004773  14.19   \n",
       "2      23.7300    26.230  572.666667  769.666667       0.004765  14.21   \n",
       "3      23.7225    26.125  493.750000  774.750000       0.004744  14.22   \n",
       "4      23.7540    26.200  488.600000  779.000000       0.004767  14.23   \n",
       "\n",
       "   Occupancy  \n",
       "0          1  \n",
       "1          1  \n",
       "2          1  \n",
       "3          1  \n",
       "4          1  "
      ]
     },
     "execution_count": 5,
     "metadata": {},
     "output_type": "execute_result"
    }
   ],
   "source": [
    "data = data.reindex(columns=['Temperature', 'Humidity', 'Light', 'CO2', 'HumidityRatio', 'Time', 'Occupancy'])\n",
    "data.head()"
   ]
  },
  {
   "cell_type": "code",
   "execution_count": 6,
   "metadata": {},
   "outputs": [
    {
     "data": {
      "text/plain": [
       "(20560, 7)"
      ]
     },
     "execution_count": 6,
     "metadata": {},
     "output_type": "execute_result"
    }
   ],
   "source": [
    "data.shape"
   ]
  },
  {
   "cell_type": "markdown",
   "metadata": {},
   "source": [
    "### Data preprocessing, extraction and splitting"
   ]
  },
  {
   "cell_type": "code",
   "execution_count": 7,
   "metadata": {},
   "outputs": [
    {
     "name": "stdout",
     "output_type": "stream",
     "text": [
      "(20560, 6)\n"
     ]
    }
   ],
   "source": [
    "X = data.iloc[:,:6].values\n",
    "Y = data['Occupancy'].values\n",
    "print(X.shape)\n",
    "X_train, X_test, y_train, y_test = train_test_split(X, Y, test_size = 0.40, random_state = 14)\n",
    "sc = StandardScaler()\n",
    "X_train = sc.fit_transform(X_train)\n",
    "X_test = sc.transform(X_test)"
   ]
  },
  {
   "cell_type": "markdown",
   "metadata": {},
   "source": [
    "### Applying SVM classification without data processing"
   ]
  },
  {
   "cell_type": "code",
   "execution_count": 8,
   "metadata": {},
   "outputs": [
    {
     "name": "stdout",
     "output_type": "stream",
     "text": [
      "Accuracy score for SVM: 0.8860651750972762\n"
     ]
    }
   ],
   "source": [
    "svcclassifier = SVC(kernel = 'sigmoid', random_state = 50)\n",
    "svcclassifier.fit(X_train, y_train)\n",
    "y_pred = svcclassifier.predict(X_test)\n",
    "P_SVC = accuracy_score(y_pred,y_test)\n",
    "print(\"Accuracy score for SVM:\",P_SVC)"
   ]
  },
  {
   "cell_type": "markdown",
   "metadata": {},
   "source": [
    "### GWO Optimization algo"
   ]
  },
  {
   "cell_type": "code",
   "execution_count": 9,
   "metadata": {},
   "outputs": [],
   "source": [
    "def GWO(objf,lb,ub,dim,SearchAgents_no,Max_iter):\n",
    "    \n",
    "    # initialize alpha, beta, and delta_pos\n",
    "    Alpha_pos=np.zeros(dim)\n",
    "    Alpha_score=float(\"inf\")\n",
    "    \n",
    "    Beta_pos=np.zeros(dim)\n",
    "    Beta_score=float(\"inf\")\n",
    "    \n",
    "    Delta_pos=np.zeros(dim)\n",
    "    Delta_score=float(\"inf\")\n",
    "\n",
    "    if not isinstance(lb, list):\n",
    "        lb = [lb] * dim\n",
    "    if not isinstance(ub, list):\n",
    "        ub = [ub] * dim\n",
    "    \n",
    "    #Initialize the positions of search agents\n",
    "    Positions = np.zeros((SearchAgents_no, dim))\n",
    "    for i in range(dim):\n",
    "        Positions[:, i] = np.random.uniform(0,1, SearchAgents_no) * (ub[i] - lb[i]) + lb[i]\n",
    "    \n",
    "    Convergence_curve=np.zeros(Max_iter)\n",
    "\n",
    "     # Loop counter\n",
    "    print(\"GWO is optimizing  \\\"\"+objf.__name__+\"\\\"\")    \n",
    "\n",
    "    # Main loop\n",
    "    for l in range(0,Max_iter):\n",
    "        for i in range(0,SearchAgents_no):\n",
    "            \n",
    "            # Return back the search agents that go beyond the boundaries of the search space\n",
    "            for j in range(dim):\n",
    "                Positions[i,j]=np.clip(Positions[i,j], lb[j], ub[j])\n",
    "\n",
    "            # Calculate objective function for each search agent\n",
    "            fitness=objf(Positions[i,:])\n",
    "            \n",
    "            # Update Alpha, Beta, and Delta\n",
    "            if fitness<Alpha_score :\n",
    "                Alpha_score=fitness; # Update alpha\n",
    "                Alpha_pos=Positions[i,:].copy()\n",
    "            \n",
    "            \n",
    "            if (fitness>Alpha_score and fitness<Beta_score ):\n",
    "                Beta_score=fitness  # Update beta\n",
    "                Beta_pos=Positions[i,:].copy()\n",
    "            \n",
    "            \n",
    "            if (fitness>Alpha_score and fitness>Beta_score and fitness<Delta_score): \n",
    "                Delta_score=fitness # Update delta\n",
    "                Delta_pos=Positions[i,:].copy()\n",
    "        \n",
    "        a=2-l*((2)/Max_iter); # a decreases linearly fron 2 to 0\n",
    "        \n",
    "        # Update the Position of search agents including omegas\n",
    "        for i in range(0,SearchAgents_no):\n",
    "            for j in range (0,dim):     \n",
    "                           \n",
    "                r1=random.random() # r1 is a random number in [0,1]\n",
    "                r2=random.random() # r2 is a random number in [0,1]\n",
    "                \n",
    "                A1=2*a*r1-a; # Equation (3.3)\n",
    "                C1=2*r2; # Equation (3.4)\n",
    "                \n",
    "                D_alpha=abs(C1*Alpha_pos[j]-Positions[i,j]); # Equation (3.5)-part 1\n",
    "                X1=Alpha_pos[j]-A1*D_alpha; # Equation (3.6)-part 1\n",
    "                           \n",
    "                r1=random.random()\n",
    "                r2=random.random()\n",
    "                \n",
    "                A2=2*a*r1-a; # Equation (3.3)\n",
    "                C2=2*r2; # Equation (3.4)\n",
    "                \n",
    "                D_beta=abs(C2*Beta_pos[j]-Positions[i,j]); # Equation (3.5)-part 2\n",
    "                X2=Beta_pos[j]-A2*D_beta; # Equation (3.6)-part 2       \n",
    "                \n",
    "                r1=random.random()\n",
    "                r2=random.random() \n",
    "                \n",
    "                A3=2*a*r1-a; # Equation (3.3)\n",
    "                C3=2*r2; # Equation (3.4)\n",
    "                \n",
    "                D_delta=abs(C3*Delta_pos[j]-Positions[i,j]); # Equation (3.5)-part 3\n",
    "                X3=Delta_pos[j]-A3*D_delta; # Equation (3.5)-part 3             \n",
    "                \n",
    "                Positions[i,j]=(X1+X2+X3)/3  # Equation (3.7)        \n",
    "        Convergence_curve[l]=Alpha_score;\n",
    "    \n",
    "    print(Positions.shape)\n",
    "    print(\"Alpha position=\",Alpha_pos);\n",
    "    print(\"Beta position=\",Beta_pos);\n",
    "    print(\"Delta position=\",Delta_pos);\n",
    "    return Alpha_pos,Beta_pos,Delta_pos;\n"
   ]
  },
  {
   "cell_type": "markdown",
   "metadata": {},
   "source": [
    "### Setting GWO parameters"
   ]
  },
  {
   "cell_type": "code",
   "execution_count": 10,
   "metadata": {},
   "outputs": [
    {
     "name": "stdout",
     "output_type": "stream",
     "text": [
      "GWO is optimizing  \"F7\"\n",
      "(5, 7)\n",
      "Alpha position= [ 0.12128488 -0.00910675 -0.13150046 -0.10284611  0.09030063 -0.00282545\n",
      " -0.09838612]\n",
      "Beta position= [ 0.11930864 -0.00868946 -0.13386515 -0.11159201  0.08696027 -0.00295959\n",
      " -0.10479686]\n",
      "Delta position= [ 0.14691116 -0.00773743 -0.10938752 -0.10263287  0.09917765 -0.00370451\n",
      " -0.09896459]\n",
      "GWO is optimizing  \"F7\"\n",
      "(5, 7)\n",
      "Alpha position= [-0.24466499 -0.13825683 -0.14403572  0.02437968  0.09021489  0.03252791\n",
      " -0.00389419]\n",
      "Beta position= [-0.28793882 -0.14117685 -0.13480029  0.02382925  0.09497017  0.03325119\n",
      " -0.00397588]\n",
      "Delta position= [-0.29366132 -0.13668949 -0.13743655  0.02349815  0.09256083  0.03369579\n",
      " -0.00397605]\n",
      "GWO is optimizing  \"F7\"\n",
      "(5, 7)\n",
      "Alpha position= [-0.19303016 -0.18154801  0.11331351  0.1244878   0.19320621  0.11558852\n",
      " -0.10021551]\n",
      "Beta position= [-0.19475168 -0.22095553  0.1176888   0.1271365   0.17226277  0.14231195\n",
      " -0.07853745]\n",
      "Delta position= [-0.18936009 -0.22715993  0.10848572  0.13616426  0.16673562  0.15197602\n",
      " -0.08644167]\n",
      "GWO is optimizing  \"F7\"\n",
      "(5, 7)\n",
      "Alpha position= [ 0.08200556  0.21936365  0.09677671  0.03387206  0.05357479 -0.12375897\n",
      "  0.04172828]\n",
      "Beta position= [ 0.07428989  0.22279624  0.10901297  0.03616354  0.03373837 -0.10231536\n",
      "  0.05333108]\n",
      "Delta position= [ 0.08391776  0.18882634  0.09935702  0.03631788  0.0716841  -0.12974081\n",
      "  0.03618415]\n",
      "GWO is optimizing  \"F7\"\n",
      "(5, 7)\n",
      "Alpha position= [-0.28992981  0.26459498  0.04201681 -0.12638684 -0.06662379 -0.05619919\n",
      " -0.02626413]\n",
      "Beta position= [-0.31536634  0.24967521  0.04170492 -0.14241407 -0.07077964 -0.06786003\n",
      " -0.0213772 ]\n",
      "Delta position= [-0.31258213  0.24668154  0.04135754 -0.13988002 -0.06830107 -0.06754234\n",
      " -0.02021789]\n",
      "GWO is optimizing  \"F7\"\n",
      "(5, 7)\n",
      "Alpha position= [-0.2895199   0.30311318 -0.0011925  -0.04809585  0.08198717 -0.02826027\n",
      "  0.19366973]\n",
      "Beta position= [-0.32020994  0.278665    0.00354194 -0.04583998  0.09627002 -0.03868319\n",
      "  0.18861793]\n",
      "Delta position= [-0.32162747  0.29441175  0.00305835 -0.04478445  0.0981698  -0.03155767\n",
      "  0.22302839]\n",
      "GWO is optimizing  \"F7\"\n",
      "(5, 7)\n",
      "Alpha position= [-0.13361152  0.06184744  0.06728793 -0.03494185  0.11397447  0.01169252\n",
      "  0.01984137]\n",
      "Beta position= [-0.21499082  0.06187179  0.03983836 -0.02391737  0.15033293  0.01179399\n",
      "  0.01870709]\n",
      "Delta position= [-0.17890804  0.07074953  0.04959949 -0.03380528  0.12389463  0.01245965\n",
      "  0.02019916]\n",
      "GWO is optimizing  \"F7\"\n",
      "(5, 7)\n",
      "Alpha position= [-0.12054616 -0.18232323  0.03734886 -0.05189342  0.00889142 -0.1942158\n",
      " -0.17441377]\n",
      "Beta position= [-0.12325897 -0.17747924  0.03575155 -0.05190933  0.00953841 -0.21675405\n",
      " -0.18208753]\n",
      "Delta position= [-0.12266991 -0.16607436  0.03968551 -0.05834114  0.00952145 -0.21892565\n",
      " -0.20127937]\n",
      "GWO is optimizing  \"F7\"\n",
      "(5, 7)\n",
      "Alpha position= [-0.196673    0.00501973  0.01043417 -0.12200642  0.03422557  0.12283001\n",
      "  0.13306159]\n",
      "Beta position= [-0.20093402  0.00467165  0.01076543 -0.12009525  0.03522186  0.12388795\n",
      "  0.12859755]\n",
      "Delta position= [-0.21527236  0.00482129  0.01113177 -0.12372618  0.03465402  0.12677911\n",
      "  0.12622789]\n",
      "GWO is optimizing  \"F7\"\n",
      "(5, 7)\n",
      "Alpha position= [ 0.28395559 -0.05422305  0.17792647 -0.12137226  0.01013346  0.19001251\n",
      "  0.14463865]\n",
      "Beta position= [ 0.3038901  -0.05294719  0.16846102 -0.12470199  0.01165081  0.18125366\n",
      "  0.15679043]\n",
      "Delta position= [ 0.29781742 -0.0534666   0.17215372 -0.12338793  0.01092745  0.18339496\n",
      "  0.15289841]\n"
     ]
    }
   ],
   "source": [
    "iters=100\n",
    "wolves=5\n",
    "dimension=7\n",
    "search_domain=[0,1]\n",
    "lb=-1.28\n",
    "ub=1.28\n",
    "colneeded=[0,1,2,3,4,5]\n",
    "modified_data=pd.DataFrame()\n",
    "for i in colneeded:\n",
    "    modified_data[data.columns[i]]=data[data.columns[i]].astype(float)\n",
    "func_details=benchmarks.getFunctionDetails(6)\n",
    "\n",
    "for i in range(0,10):\n",
    "    alpha,beta,delta=GWO(getattr(benchmarks,'F7'),lb,ub,dimension,wolves,iters)"
   ]
  },
  {
   "cell_type": "code",
   "execution_count": 11,
   "metadata": {},
   "outputs": [
    {
     "name": "stdout",
     "output_type": "stream",
     "text": [
      "alpha shape = 7\n",
      "The modified data is following\n"
     ]
    },
    {
     "data": {
      "text/html": [
       "<div>\n",
       "<style scoped>\n",
       "    .dataframe tbody tr th:only-of-type {\n",
       "        vertical-align: middle;\n",
       "    }\n",
       "\n",
       "    .dataframe tbody tr th {\n",
       "        vertical-align: top;\n",
       "    }\n",
       "\n",
       "    .dataframe thead th {\n",
       "        text-align: right;\n",
       "    }\n",
       "</style>\n",
       "<table border=\"1\" class=\"dataframe\">\n",
       "  <thead>\n",
       "    <tr style=\"text-align: right;\">\n",
       "      <th></th>\n",
       "      <th>Light</th>\n",
       "      <th>HumidityRatio</th>\n",
       "      <th>Time</th>\n",
       "      <th>Occupancy</th>\n",
       "    </tr>\n",
       "  </thead>\n",
       "  <tbody>\n",
       "    <tr>\n",
       "      <th>0</th>\n",
       "      <td>585.200000</td>\n",
       "      <td>0.004764</td>\n",
       "      <td>14.19</td>\n",
       "      <td>1.0</td>\n",
       "    </tr>\n",
       "    <tr>\n",
       "      <th>1</th>\n",
       "      <td>578.400000</td>\n",
       "      <td>0.004773</td>\n",
       "      <td>14.19</td>\n",
       "      <td>1.0</td>\n",
       "    </tr>\n",
       "    <tr>\n",
       "      <th>2</th>\n",
       "      <td>572.666667</td>\n",
       "      <td>0.004765</td>\n",
       "      <td>14.21</td>\n",
       "      <td>1.0</td>\n",
       "    </tr>\n",
       "    <tr>\n",
       "      <th>3</th>\n",
       "      <td>493.750000</td>\n",
       "      <td>0.004744</td>\n",
       "      <td>14.22</td>\n",
       "      <td>1.0</td>\n",
       "    </tr>\n",
       "    <tr>\n",
       "      <th>4</th>\n",
       "      <td>488.600000</td>\n",
       "      <td>0.004767</td>\n",
       "      <td>14.23</td>\n",
       "      <td>1.0</td>\n",
       "    </tr>\n",
       "  </tbody>\n",
       "</table>\n",
       "</div>"
      ],
      "text/plain": [
       "        Light  HumidityRatio   Time  Occupancy\n",
       "0  585.200000       0.004764  14.19        1.0\n",
       "1  578.400000       0.004773  14.19        1.0\n",
       "2  572.666667       0.004765  14.21        1.0\n",
       "3  493.750000       0.004744  14.22        1.0\n",
       "4  488.600000       0.004767  14.23        1.0"
      ]
     },
     "execution_count": 11,
     "metadata": {},
     "output_type": "execute_result"
    }
   ],
   "source": [
    "##Applying feature selection on the given dataset\n",
    "##considering alpha as best solution and putting a threshold\n",
    "threshold=-0.05\n",
    "index=[]\n",
    "print(\"alpha shape =\",alpha.shape[0])\n",
    "modified_daata=pd.DataFrame();\n",
    "for i in range(1,alpha.shape[0]):\n",
    "    if(alpha[i]>=threshold):\n",
    "        modified_daata[data.columns[i]]=data[data.columns[i]].astype(float)\n",
    "print(\"The modified data is following\")\n",
    "modified_daata.head()"
   ]
  },
  {
   "cell_type": "markdown",
   "metadata": {},
   "source": [
    "### Data preprocessing, extraction and splitting"
   ]
  },
  {
   "cell_type": "code",
   "execution_count": 12,
   "metadata": {},
   "outputs": [
    {
     "name": "stdout",
     "output_type": "stream",
     "text": [
      "[-0.61731087 -0.40005171  1.35983081 -0.54575016]\n",
      "<class 'pandas.core.frame.DataFrame'>\n",
      "RangeIndex: 20560 entries, 0 to 20559\n",
      "Data columns (total 4 columns):\n",
      " #   Column         Non-Null Count  Dtype  \n",
      "---  ------         --------------  -----  \n",
      " 0   Light          20560 non-null  float64\n",
      " 1   HumidityRatio  20560 non-null  float64\n",
      " 2   Time           20560 non-null  float64\n",
      " 3   Occupancy      20560 non-null  float64\n",
      "dtypes: float64(4)\n",
      "memory usage: 642.6 KB\n"
     ]
    }
   ],
   "source": [
    "Y = data['Occupancy'].values\n",
    "X_train, X_test, y_train, y_test = train_test_split(modified_daata, Y, test_size = 0.40, random_state = 14)\n",
    "sc = StandardScaler()\n",
    "X_train = sc.fit_transform(X_train)\n",
    "X_test = sc.transform(X_test)\n",
    "print(X_train[0])\n",
    "modified_daata.info()"
   ]
  },
  {
   "cell_type": "markdown",
   "metadata": {},
   "source": [
    "### Applying svm on the modified data"
   ]
  },
  {
   "cell_type": "code",
   "execution_count": 13,
   "metadata": {},
   "outputs": [
    {
     "name": "stdout",
     "output_type": "stream",
     "text": [
      "Modified Accuracy score for SVM: 0.9878404669260701\n",
      "Earlier Accuracy score was 0.8860651750972762\n"
     ]
    }
   ],
   "source": [
    "svcclassifier = SVC(kernel = 'sigmoid', random_state = 50)\n",
    "svcclassifier.fit(X_train, y_train)\n",
    "y_pred = svcclassifier.predict(X_test)\n",
    "P1_SVC=accuracy_score(y_pred,y_test)\n",
    "print(\"Modified Accuracy score for SVM:\", P1_SVC)\n",
    "print(\"Earlier Accuracy score was\", P_SVC)"
   ]
  },
  {
   "cell_type": "markdown",
   "metadata": {},
   "source": [
    "### Visual comparison of the different accuracies obtained"
   ]
  },
  {
   "cell_type": "code",
   "execution_count": 14,
   "metadata": {},
   "outputs": [
    {
     "name": "stderr",
     "output_type": "stream",
     "text": [
      "C:\\ANA\\lib\\site-packages\\seaborn\\_decorators.py:36: FutureWarning: Pass the following variables as keyword args: x, y. From version 0.12, the only valid positional argument will be `data`, and passing other arguments without an explicit keyword will result in an error or misinterpretation.\n",
      "  warnings.warn(\n"
     ]
    },
    {
     "data": {
      "image/png": "[encoded data removed]",
      "text/plain": [
       "<Figure size 360x504 with 1 Axes>"
      ]
     },
     "metadata": {
      "needs_background": "light"
     },
     "output_type": "display_data"
    }
   ],
   "source": [
    "plt.figure(figsize=(5, 7))\n",
    "x = ['SVM', 'SVM_NEW']\n",
    "y = [P_SVC*100, P1_SVC*100]\n",
    "plots = sns.barplot(x,y)\n",
    "plt.ylabel('Accuracy(%)')\n",
    "plt.xticks(rotation = 90)\n",
    "for bar in plots.patches:\n",
    "    plots.annotate(format(bar.get_height(), '.2f'),\n",
    "                   (bar.get_x() + bar.get_width() / 2,\n",
    "                    bar.get_height()), ha='center', va='center',\n",
    "                   size=15, xytext=(0, 8),\n",
    "                   textcoords='offset points')\n",
    "plt.show()"
   ]
  },
  {
   "cell_type": "code",
   "execution_count": null,
   "metadata": {},
   "outputs": [],
   "source": []
  }
 ],
 "metadata": {
  "kernelspec": {
   "display_name": "Python 3 (ipykernel)",
   "language": "python",
   "name": "python3"
  },
  "language_info": {
   "codemirror_mode": {
    "name": "ipython",
    "version": 3
   },
   "file_extension": ".py",
   "mimetype": "text/x-python",
   "name": "python",
   "nbconvert_exporter": "python",
   "pygments_lexer": "ipython3",
   "version": "3.9.12"
  }
 },
 "nbformat": 4,
 "nbformat_minor": 2
}
